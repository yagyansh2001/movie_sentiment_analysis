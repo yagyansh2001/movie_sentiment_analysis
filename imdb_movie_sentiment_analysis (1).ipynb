{
 "cells": [
  {
   "cell_type": "code",
   "execution_count": null,
   "id": "aabec3dc",
   "metadata": {},
   "outputs": [],
   "source": [
    "import pandas as pd\n",
    "import numpy as np\n",
    "import nltk\n",
    "import seaborn as sns\n",
    "import matplotlib.pyplot as plt\n",
    "import re\n",
    "from nltk.tokenize import sent_tokenize,word_tokenize\n",
    "from nltk.corpus import stopwords\n",
    "from nltk.stem.porter import PorterStemmer\n",
    "from nltk.stem.wordnet import WordNetLemmatizer\n",
    "from sklearn.feature_extraction.text import CountVectorizer\n",
    "from sklearn.neighbors import KNeighborsClassifier\n",
    "from sklearn.linear_model import LogisticRegression\n",
    "from sklearn.metrics import accuracy_score\n",
    "from sklearn.naive_bayes import GaussianNB\n",
    "from sklearn.svm import SVC\n",
    "from sklearn.tree import DecisionTreeClassifier"
   ]
  },
  {
   "cell_type": "code",
   "execution_count": null,
   "id": "89bb5841",
   "metadata": {},
   "outputs": [],
   "source": [
    "nltk.download('punkt')"
   ]
  },
  {
   "cell_type": "code",
   "execution_count": null,
   "id": "9d80a7af",
   "metadata": {},
   "outputs": [],
   "source": [
    "data=pd.read_csv('movie.csv')"
   ]
  },
  {
   "cell_type": "code",
   "execution_count": null,
   "id": "950fbf34",
   "metadata": {},
   "outputs": [],
   "source": [
    "data.head()"
   ]
  },
  {
   "cell_type": "code",
   "execution_count": null,
   "id": "a1fe0255",
   "metadata": {},
   "outputs": [],
   "source": [
    "len(data)"
   ]
  },
  {
   "cell_type": "code",
   "execution_count": null,
   "id": "46432548",
   "metadata": {},
   "outputs": [],
   "source": [
    "# Exploratory analysis"
   ]
  },
  {
   "cell_type": "code",
   "execution_count": null,
   "id": "8c6da614",
   "metadata": {},
   "outputs": [],
   "source": [
    "data['label'].value_counts()"
   ]
  },
  {
   "cell_type": "code",
   "execution_count": null,
   "id": "eea2d50e",
   "metadata": {},
   "outputs": [],
   "source": [
    "y=data['label']\n",
    "X=data['text']"
   ]
  },
  {
   "cell_type": "code",
   "execution_count": null,
   "id": "f9ff211d",
   "metadata": {},
   "outputs": [],
   "source": [
    "# Tokenization"
   ]
  },
  {
   "cell_type": "code",
   "execution_count": null,
   "id": "4211b1b5",
   "metadata": {},
   "outputs": [],
   "source": [
    "tokenized_sentences=[]\n",
    "i=0\n",
    "while i<len(X):\n",
    "    tokenized_sentences.append(word_tokenize(X[i]))\n",
    "    i=i+1"
   ]
  },
  {
   "cell_type": "code",
   "execution_count": null,
   "id": "6dfa93d9",
   "metadata": {},
   "outputs": [],
   "source": [
    "# Lower case conversion"
   ]
  },
  {
   "cell_type": "code",
   "execution_count": null,
   "id": "be80815e",
   "metadata": {},
   "outputs": [],
   "source": [
    "for sent in tokenized_sentences:\n",
    "    m=0\n",
    "    while m<len(sent):\n",
    "        sent[m] = re.sub(r\"[^a-zA-Z0-9]\", \" \", sent[m].lower())\n",
    "        m=m+1"
   ]
  },
  {
   "cell_type": "code",
   "execution_count": null,
   "id": "fadcebab",
   "metadata": {},
   "outputs": [],
   "source": [
    "stopwords_en=stopwords.words('english')\n",
    "stopwords_en.append(' ')"
   ]
  },
  {
   "cell_type": "code",
   "execution_count": null,
   "id": "adfdd6e3",
   "metadata": {},
   "outputs": [],
   "source": [
    "words=[]\n",
    "for sent in tokenized_sentences:\n",
    "    words.append([w for w in sent if w not in stopwords_en])"
   ]
  },
  {
   "cell_type": "code",
   "execution_count": null,
   "id": "76000279",
   "metadata": {},
   "outputs": [],
   "source": [
    "# Stemming"
   ]
  },
  {
   "cell_type": "code",
   "execution_count": null,
   "id": "5059ce3d",
   "metadata": {},
   "outputs": [],
   "source": [
    "for sent in words:\n",
    "    i=0\n",
    "    while i<len(sent):\n",
    "        sent[i]=(PorterStemmer().stem(sent[i]))\n",
    "        i=i+1 "
   ]
  },
  {
   "cell_type": "code",
   "execution_count": null,
   "id": "d2aa92c7",
   "metadata": {},
   "outputs": [],
   "source": [
    "#Vectorizing"
   ]
  },
  {
   "cell_type": "code",
   "execution_count": null,
   "id": "d0abe57d",
   "metadata": {},
   "outputs": [],
   "source": [
    "all_words=[]\n",
    "for sent in words:\n",
    "    i=0\n",
    "    while i<len(sent):\n",
    "        all_words.append(sent[i])\n",
    "        i=i+1"
   ]
  },
  {
   "cell_type": "code",
   "execution_count": null,
   "id": "2866923f",
   "metadata": {},
   "outputs": [],
   "source": [
    "words_freq={}\n",
    "for word in all_words:\n",
    "    if word not in words_freq.keys():\n",
    "        words_freq[word]=1\n",
    "    elif word in words_freq.keys():\n",
    "        words_freq[word]+=1\n",
    "        "
   ]
  },
  {
   "cell_type": "code",
   "execution_count": null,
   "id": "84a65a86",
   "metadata": {},
   "outputs": [],
   "source": [
    "import heapq\n",
    "most_freq = heapq.nlargest(1000, words_freq, key=words_freq.get)"
   ]
  },
  {
   "cell_type": "code",
   "execution_count": null,
   "id": "6be3f135",
   "metadata": {},
   "outputs": [],
   "source": [
    "sentence_vectors = []\n",
    "for sentence in words:\n",
    "    sent_vec = []\n",
    "    for token in most_freq:\n",
    "        if token in sentence:\n",
    "            sent_vec.append(1)\n",
    "        else:\n",
    "            sent_vec.append(0)\n",
    "    print(sent_vec)       \n",
    "    sentence_vectors.append(sent_vec)"
   ]
  },
  {
   "cell_type": "code",
   "execution_count": null,
   "id": "88d3bfb3",
   "metadata": {},
   "outputs": [],
   "source": [
    "len(sentence_vectors)"
   ]
  },
  {
   "cell_type": "code",
   "execution_count": null,
   "id": "f153d007",
   "metadata": {},
   "outputs": [],
   "source": [
    "X_train=sentence_vectors[:30000]\n",
    "X_test=sentence_vectors[30000:]"
   ]
  },
  {
   "cell_type": "code",
   "execution_count": null,
   "id": "2170e8b0",
   "metadata": {},
   "outputs": [],
   "source": [
    "y_train=y[:30000]\n",
    "y_test=y[30000:]"
   ]
  },
  {
   "cell_type": "code",
   "execution_count": null,
   "id": "27f9495b",
   "metadata": {},
   "outputs": [],
   "source": [
    "# KNN"
   ]
  },
  {
   "cell_type": "code",
   "execution_count": null,
   "id": "b1eaa76e",
   "metadata": {},
   "outputs": [],
   "source": [
    "knn=KNeighborsClassifier(n_neighbors=9)"
   ]
  },
  {
   "cell_type": "code",
   "execution_count": null,
   "id": "027b2de7",
   "metadata": {},
   "outputs": [],
   "source": [
    "knn.fit(X_train,y_train)"
   ]
  },
  {
   "cell_type": "code",
   "execution_count": null,
   "id": "061dab4c",
   "metadata": {},
   "outputs": [],
   "source": [
    "knn_preds=knn.predict(X_test)"
   ]
  },
  {
   "cell_type": "code",
   "execution_count": null,
   "id": "ae9ec7e1",
   "metadata": {},
   "outputs": [],
   "source": [
    "accuracy_score(y_test,knn_preds)"
   ]
  },
  {
   "cell_type": "code",
   "execution_count": null,
   "id": "a646b0b5",
   "metadata": {},
   "outputs": [],
   "source": [
    "# Logistic regression"
   ]
  },
  {
   "cell_type": "code",
   "execution_count": null,
   "id": "5ef57e03",
   "metadata": {},
   "outputs": [],
   "source": [
    "lr=LogisticRegression()\n",
    "lr.fit(X_train,y_train)\n",
    "lr_preds=lr.predict(X_test)"
   ]
  },
  {
   "cell_type": "code",
   "execution_count": null,
   "id": "1f21f710",
   "metadata": {},
   "outputs": [],
   "source": [
    "accuracy_score(y_test,lr_preds)"
   ]
  },
  {
   "cell_type": "code",
   "execution_count": null,
   "id": "2f0e2082",
   "metadata": {},
   "outputs": [],
   "source": [
    "# Naibe bayes"
   ]
  },
  {
   "cell_type": "code",
   "execution_count": null,
   "id": "626fd54f",
   "metadata": {},
   "outputs": [],
   "source": [
    "gnb=GaussianNB()\n",
    "gnb.fit(X_train,y_train)\n",
    "gnb_preds=gnb.predict(X_test)"
   ]
  },
  {
   "cell_type": "code",
   "execution_count": null,
   "id": "3fa0deb6",
   "metadata": {},
   "outputs": [],
   "source": [
    "accuracy_score(y_test,gnb_preds)"
   ]
  },
  {
   "cell_type": "code",
   "execution_count": null,
   "id": "72d041e3",
   "metadata": {},
   "outputs": [],
   "source": [
    "# SVM"
   ]
  },
  {
   "cell_type": "code",
   "execution_count": null,
   "id": "7225124a",
   "metadata": {},
   "outputs": [],
   "source": [
    "svc=SVC()\n",
    "svc.fit(X_train,y_train)\n",
    "svc_preds=svc.predict(X_test)"
   ]
  },
  {
   "cell_type": "code",
   "execution_count": null,
   "id": "d57e6382",
   "metadata": {},
   "outputs": [],
   "source": [
    "accuracy_score(y_test,svc_preds)"
   ]
  },
  {
   "cell_type": "code",
   "execution_count": null,
   "id": "f7e7603c",
   "metadata": {},
   "outputs": [],
   "source": [
    "# Decision tree"
   ]
  },
  {
   "cell_type": "code",
   "execution_count": null,
   "id": "bba0fedd",
   "metadata": {},
   "outputs": [],
   "source": [
    "dec_tree=DecisionTreeClassifier()\n",
    "dec_tree.fit(X_train,y_train)\n",
    "dec_preds=dec_tree.predict(X_test)"
   ]
  },
  {
   "cell_type": "code",
   "execution_count": null,
   "id": "0fe0a7ee",
   "metadata": {},
   "outputs": [],
   "source": [
    "accuracy_score(y_test,dec_preds)"
   ]
  },
  {
   "cell_type": "code",
   "execution_count": null,
   "id": "740e7f5c",
   "metadata": {},
   "outputs": [],
   "source": []
  }
 ],
 "metadata": {
  "kernelspec": {
   "display_name": "Python 3",
   "language": "python",
   "name": "python3"
  },
  "language_info": {
   "codemirror_mode": {
    "name": "ipython",
    "version": 3
   },
   "file_extension": ".py",
   "mimetype": "text/x-python",
   "name": "python",
   "nbconvert_exporter": "python",
   "pygments_lexer": "ipython3",
   "version": "3.8.8"
  }
 },
 "nbformat": 4,
 "nbformat_minor": 5
}
